{
 "cells": [
  {
   "cell_type": "code",
   "execution_count": 85,
   "metadata": {
    "collapsed": false
   },
   "outputs": [
    {
     "name": "stdout",
     "output_type": "stream",
     "text": [
      "4763\n",
      "4763\n"
     ]
    }
   ],
   "source": [
    "import glob\n",
    "\n",
    "def load_livedoor_news_corpus():\n",
    "    category = {\n",
    "        'it-life-hack':2,\n",
    "        'livedoor-homme': 3,\n",
    "        'movie-enter': 4,\n",
    "        'peachy': 1,\n",
    "        'sports-watch': 5,\n",
    "        'topic-news':6\n",
    "    }\n",
    "    docs  = []\n",
    "    labels = []\n",
    "\n",
    "    for c_name, c_id in category.items():\n",
    "        files = glob.glob(\"./text/{c_name}/{c_name}*.txt\".format(c_name=c_name))\n",
    "\n",
    "        text = ''\n",
    "        for file in files:\n",
    "            with open(file, 'r') as f:\n",
    "                lines = f.read().splitlines() \n",
    "\n",
    "                url = lines[0]\n",
    "                datetime = lines[1]\n",
    "                subject = lines[2]\n",
    "                body = \"\\n\".join(lines[3:])\n",
    "                text = subject + \"\\n\" + body\n",
    "\n",
    "            docs.append(text)\n",
    "            labels.append(c_id)\n",
    "\n",
    "    return docs, labels\n",
    "\n",
    "docs, labels = load_livedoor_news_corpus()\n",
    "print(len(docs))\n",
    "print(len(labels))"
   ]
  },
  {
   "cell_type": "code",
   "execution_count": 86,
   "metadata": {
    "collapsed": false
   },
   "outputs": [],
   "source": [
    "import random\n",
    "\n",
    "## indices は 0〜7366 の整数をランダムに並べ替えた配列\n",
    "random.seed()\n",
    "indices = list(range(len(docs)))\n",
    "random.shuffle(indices)\n",
    "\n",
    "train_data   = [docs[i] for i in indices[0:4500]]\n",
    "train_labels = [labels[i] for i in indices[0:4500]]\n",
    "test_data    = [docs[i] for i in indices[4500:]]\n",
    "test_labels  = [labels[i] for i in indices[4500:]]"
   ]
  },
  {
   "cell_type": "code",
   "execution_count": 87,
   "metadata": {
    "collapsed": false,
    "scrolled": true
   },
   "outputs": [],
   "source": [
    "from natto import MeCab\n",
    "from sklearn.feature_extraction.text import TfidfVectorizer\n",
    "\n",
    "def tokenize(text):\n",
    "    tokens = []\n",
    "    with MeCab('-F%f[0],%f[6]') as nm:\n",
    "        for n in nm.parse(text, as_nodes=True):\n",
    "            # ignore any end-of-sentence nodes\n",
    "            if not n.is_eos() and n.is_nor():\n",
    "                klass, word = n.feature.split(',', 1)\n",
    "                if klass in ['名詞', '形容詞', '形容動詞', '動詞']:\n",
    "                    tokens.append(word)\n",
    "\n",
    "    return tokens\n",
    "\n",
    "vectorizer = TfidfVectorizer(tokenizer=tokenize)\n",
    "train_matrix = vectorizer.fit_transform(train_data)"
   ]
  },
  {
   "cell_type": "code",
   "execution_count": 88,
   "metadata": {
    "collapsed": false
   },
   "outputs": [
    {
     "name": "stdout",
     "output_type": "stream",
     "text": [
      "0.903333333333\n",
      "0.847908745247\n"
     ]
    }
   ],
   "source": [
    "from sklearn.naive_bayes import MultinomialNB\n",
    "clf = MultinomialNB()\n",
    "clf.fit(train_matrix, train_labels) # 学習させる\n",
    "\n",
    "test_matrix = vectorizer.transform(test_data)\n",
    "print(clf.score(train_matrix, train_labels)) # 0.881\n",
    "print(clf.score(test_matrix, test_labels)) # 0.825613079019"
   ]
  },
  {
   "cell_type": "code",
   "execution_count": 89,
   "metadata": {
    "collapsed": true
   },
   "outputs": [],
   "source": [
    "import pickle\n",
    "# pickle.dump(clf, open(\"model_origin.pkl\", \"wb\")) #モデル保存  もとの９クラス分類\n",
    "pickle.dump(clf, open(\"model_latest.pkl\", \"wb\")) #モデル保存  プロコン用6クラス分類       1 女性 2 IT 3 男 4 映画　５　スポーツ 6　その他\n",
    "pickle.dump(vectorizer, open(\"vectorizer_latest.pkl\", \"wb\"))\n",
    "# #clf = pickle.load(open(\"model.pkl\", \"rb\")) 　#モデル読み込み　"
   ]
  },
  {
   "cell_type": "code",
   "execution_count": 90,
   "metadata": {
    "collapsed": false
   },
   "outputs": [
    {
     "name": "stdout",
     "output_type": "stream",
     "text": [
      "[2 5 6 6]\n"
     ]
    }
   ],
   "source": [
    "# 未知のデータ\n",
    "input_data = [\n",
    "   \"\"\"本日のテーマMicrosoftFlow#MicrosoftFlowJapanSharePointGroup\n",
    "   本日のゴールMicrosoftFlowというサービスを知ってもらうなにができそうかを知ってもらう\n",
    "   JapanSharePointGroupMicrosoftFlowというサービスを知ってもらうなにができそうかを知ってもらう\n",
    "   JapanSharePointGroupSharePointGroup\"\"\",\n",
    "    \"\"\"セ・パ交流戦、ロッテ６－９ヤクルト、３回戦、ロッテ２勝１敗、１１日、ゾゾマリン）１０連敗中だったヤクルトは新外国人、デービッド・ブキャナン投手（２７）が７回２失点で今季３勝目（４敗）。\n",
    "    ２番・上田剛史外野手（２８）が３安打４打点と活躍するなど打線もつながった。\n",
    "    泥沼の大型連敗をストップし、交流戦１２試合目にしてようやく初勝利となった。(サンケイスポーツ)\n",
    "    \"\"\",\n",
    "    \"\"\"政府の郵政民営化委員会（委員長・岩田一政日本経済研究センター理事長）は、\n",
    "    ゆうちょ銀行が総務省と金融庁に新規業務として申請した個人向け無担保融資について、\n",
    "    「実施に問題はない」とする意見を表明する方針を固めた。関係筋が10日明らかにした。\n",
    "    14日にも開く民営化委で正式に意見書をまとめ、高市早苗総務相と森信親金融庁長官に提出する。(時事通信)\"\"\",\n",
    "    \"\"\"　国連の特別報告者らが日本政府の方針に批判的な見解を示し、\n",
    "    政府がその都度、反論するケースが相次いだ。「共謀罪」の成立要件を改めたテロ等準備罪を新設する組織犯罪処罰法改正案や特定秘密保護法、\n",
    "    慰安婦問題に関する日韓合意が取り上げられ、政府の対決姿勢を野党が批判している。(毎日新聞)\"\"\"\n",
    "]\n",
    "input_matrix = vectorizer.transform(input_data)\n",
    "print(clf.predict(input_matrix))\n"
   ]
  },
  {
   "cell_type": "code",
   "execution_count": null,
   "metadata": {
    "collapsed": true
   },
   "outputs": [],
   "source": []
  },
  {
   "cell_type": "code",
   "execution_count": null,
   "metadata": {
    "collapsed": true
   },
   "outputs": [],
   "source": []
  }
 ],
 "metadata": {
  "kernelspec": {
   "display_name": "Python 3",
   "language": "python",
   "name": "python3"
  },
  "language_info": {
   "codemirror_mode": {
    "name": "ipython",
    "version": 3
   },
   "file_extension": ".py",
   "mimetype": "text/x-python",
   "name": "python",
   "nbconvert_exporter": "python",
   "pygments_lexer": "ipython3",
   "version": "3.5.1"
  }
 },
 "nbformat": 4,
 "nbformat_minor": 0
}
